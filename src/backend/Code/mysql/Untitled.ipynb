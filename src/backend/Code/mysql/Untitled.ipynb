{
 "cells": [
  {
   "cell_type": "code",
   "execution_count": 19,
   "id": "d1aaa6f9",
   "metadata": {},
   "outputs": [],
   "source": [
    "import mysql.connector\n",
    "\n",
    "connection_params = {\n",
    "    'host': \"projet-yourlist.mysql.database.azure.com\",\n",
    "    'user': \"yourlist_admin@projet-yourlist\",\n",
    "    'password': \"AeHg9SG2eS6TSeC\",\n",
    "    'database': \"yourlist\",\n",
    "}"
   ]
  },
  {
   "cell_type": "code",
   "execution_count": 20,
   "id": "fd95e039",
   "metadata": {},
   "outputs": [],
   "source": [
    "db = mysql.connector.connect(**connection_params)"
   ]
  },
  {
   "cell_type": "code",
   "execution_count": 21,
   "id": "6e7942e9",
   "metadata": {},
   "outputs": [],
   "source": [
    "def creerCompte(password,login,nom,prenom,entreprise):\n",
    "    request = (\n",
    "        \"INSERT INTO utilisateur(password,login,nom,prenom,entreprise) VALUES(%s,%s,%s,%s,%s)\")\n",
    "\n",
    "    params = [password,login,nom,prenom,entreprise]\n",
    "\n",
    "    with mysql.connector.connect(**connection_params) as db :\n",
    "        with db.cursor() as c:\n",
    "            c.execute(request, params)\n",
    "            db.commit()\n",
    "\n",
    "\n",
    "def connexion(login,password):\n",
    "    request = (\n",
    "        \"SELECT password FROM utilisateur WHERE login = %s\")\n",
    "\n",
    "    params = [login]\n",
    "\n",
    "    with mysql.connector.connect(**connection_params) as db :\n",
    "        with db.cursor() as c:\n",
    "            c.execute(request, params)\n",
    "            resultats = c.fetchall()\n",
    "            for idL in resultats:\n",
    "                if(idL[0] == password):\n",
    "                    return \"Connexion OK\"\n",
    "            return \"Connexion failed\"\n"
   ]
  },
  {
   "cell_type": "code",
   "execution_count": null,
   "id": "a6a9560a",
   "metadata": {},
   "outputs": [],
   "source": []
  }
 ],
 "metadata": {
  "kernelspec": {
   "display_name": "Python 3 (ipykernel)",
   "language": "python",
   "name": "python3"
  },
  "language_info": {
   "codemirror_mode": {
    "name": "ipython",
    "version": 3
   },
   "file_extension": ".py",
   "mimetype": "text/x-python",
   "name": "python",
   "nbconvert_exporter": "python",
   "pygments_lexer": "ipython3",
   "version": "3.9.12"
  }
 },
 "nbformat": 4,
 "nbformat_minor": 5
}
